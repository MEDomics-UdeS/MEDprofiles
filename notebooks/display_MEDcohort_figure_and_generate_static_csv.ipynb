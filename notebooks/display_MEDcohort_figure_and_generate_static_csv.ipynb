{
 "cells": [
  {
   "cell_type": "markdown",
   "metadata": {
    "pycharm": {
     "name": "#%% md\n"
    }
   },
   "source": [
    "# Display a MEDcohort figure and generate static CSV files\n",
    "\n",
    "**Here is a list of what you can do with the interactive figure:**\n",
    "\n",
    " - Display/Hide point values by right-clicking near the corresponding point.\n",
    " - Display/Hide patient IDs corresponding to a point by left-clicking near the corresponding point. This action will also select the whole profile and highlight it in red.\n",
    " - Set the time relative to a specific class by pressing \"r\" on your keyboard while hovering over the desired class. The same action can be used to retrieve the absolute time.\n",
    " - Open profile figures of the selected patients by pressing \"p\" on your keyboard. In these figures, you will be able to manipulate them as mentioned in the MEDprofiles_figure tutorial.\n",
    " - Delete the selected profiles from the cohort by pressing \"delete\" on your keyboard.\n",
    " - Set the cohort in bins by month by pressing \"m\" on your keyboard. This will open a new figure where each point represents a group of patients. You can display/hide the patient IDs related to a point by clicking near the corresponding point.\n",
    " - Set the cohort in bins by year by pressing \"y\" on your keyboard. This will open a new figure where each point represents a group of patients. You can display/hide the patient IDs related to a point by clicking near the corresponding point.\n",
    " - Assign/remove time points to classes by pressing \"t\" while hovering over the concerned class.\n"
   ]
  },
  {
   "cell_type": "code",
   "execution_count": null,
   "metadata": {
    "pycharm": {
     "name": "#%%\n"
    }
   },
   "outputs": [],
   "source": [
    "import os\n",
    "import pickle\n",
    "import random\n",
    "\n",
    "os.chdir('..')\n",
    "\n",
    "from MEDclasses import *\n",
    "from MEDprofiles.src.semi_front.MEDcohortFigure import MEDcohortFigure\n",
    "\n",
    "# Set the figure interactive\n",
    "%matplotlib qt"
   ]
  },
  {
   "cell_type": "markdown",
   "metadata": {
    "pycharm": {
     "name": "#%% md\n"
    }
   },
   "source": [
    "## Get the cohort"
   ]
  },
  {
   "cell_type": "code",
   "execution_count": null,
   "metadata": {
    "pycharm": {
     "name": "#%%\n"
    }
   },
   "outputs": [],
   "source": [
    "# Load the pickle file\n",
    "data_file = open('data/mimic/MEDprofiles_bin', 'rb')\n",
    "MEDprofile_list = pickle.load(data_file)\n",
    "data_file.close()"
   ]
  },
  {
   "cell_type": "code",
   "execution_count": null,
   "metadata": {
    "pycharm": {
     "name": "#%%\n"
    }
   },
   "outputs": [],
   "source": [
    "# Get the cohort (we select only 10 patients in order to reduce computation time)\n",
    "cohort = MEDcohort(list_MEDprofile=MEDprofile_list[:5])\n",
    "df_cohort = cohort.profile_list_to_df()"
   ]
  },
  {
   "cell_type": "markdown",
   "metadata": {
    "pycharm": {
     "name": "#%% md\n"
    }
   },
   "source": [
    "## Set the figure"
   ]
  },
  {
   "cell_type": "code",
   "execution_count": null,
   "metadata": {
    "pycharm": {
     "name": "#%%\n"
    }
   },
   "outputs": [],
   "source": [
    "# Define the classes attributes dict\n",
    "classes_attributes_dict = {'demographic': ([], 'compact'), 'labevent': (['sodium_max', 'sodium_min', 'sodium_trend'], 'compact'), 'nrad': (['attr_0', 'attr_1', 'attr_2'], 'compact'), 'vp': ([], 'compact')}"
   ]
  },
  {
   "cell_type": "code",
   "execution_count": null,
   "metadata": {
    "pycharm": {
     "is_executing": true,
     "name": "#%%\n"
    }
   },
   "outputs": [],
   "source": [
    "# Create the figure through the MEDprofileFigure class\n",
    "figure = MEDcohortFigure(classes_attributes_dict, df_cohort)"
   ]
  },
  {
   "cell_type": "markdown",
   "metadata": {},
   "source": [
    "<div class=\"alert alert-block alert-info\">\n",
    "<b>Execute the following cells after manipulating the figure.</div>"
   ]
  },
  {
   "cell_type": "markdown",
   "metadata": {},
   "source": [
    "## Save static csv files in an output folder"
   ]
  },
  {
   "cell_type": "code",
   "execution_count": null,
   "metadata": {},
   "outputs": [],
   "source": [
    "# Execute this cell after time point attribution in the cohort figure\n",
    "figure.generate_static_csv('output/')"
   ]
  }
 ],
 "metadata": {
  "kernelspec": {
   "display_name": "Python 3 (ipykernel)",
   "language": "python",
   "name": "python3"
  },
  "language_info": {
   "codemirror_mode": {
    "name": "ipython",
    "version": 3
   },
   "file_extension": ".py",
   "mimetype": "text/x-python",
   "name": "python",
   "nbconvert_exporter": "python",
   "pygments_lexer": "ipython3",
   "version": "3.8.10"
  }
 },
 "nbformat": 4,
 "nbformat_minor": 1
}
