{
 "cells": [
  {
   "cell_type": "markdown",
   "metadata": {
    "collapsed": true
   },
   "source": [
    "# MEDProfiles visualisation"
   ]
  },
  {
   "cell_type": "code",
   "execution_count": null,
   "metadata": {
    "pycharm": {
     "is_executing": true
    }
   },
   "outputs": [],
   "source": [
    "import pickle\n",
    "import datetime\n",
    "from MEDclasses import *"
   ]
  },
  {
   "cell_type": "code",
   "execution_count": null,
   "metadata": {},
   "outputs": [],
   "source": [
    "# Get MEDProfiles\n",
    "data_file = open('../data/mimic/MEDprofileData', 'rb')\n",
    "MEDprofile_list = pickle.load(data_file)\n",
    "data_file.close()\n",
    "cohort = MEDcohort(list_MEDprofile=MEDprofile_list)"
   ]
  },
  {
   "cell_type": "markdown",
   "metadata": {},
   "source": [
    "## Summarize data"
   ]
  },
  {
   "cell_type": "code",
   "execution_count": null,
   "metadata": {},
   "outputs": [],
   "source": [
    "cohort.summarize_data()"
   ]
  },
  {
   "cell_type": "markdown",
   "metadata": {},
   "source": [
    "## Display all data for a profile list"
   ]
  },
  {
   "cell_type": "code",
   "execution_count": null,
   "metadata": {},
   "outputs": [],
   "source": [
    "display(cohort.profile_list_to_df(by_sub_attributes=False))"
   ]
  },
  {
   "cell_type": "code",
   "execution_count": null,
   "metadata": {},
   "outputs": [],
   "source": [
    "display(cohort.profile_list_to_df(by_sub_attributes=True))"
   ]
  },
  {
   "cell_type": "markdown",
   "metadata": {},
   "source": [
    "## Display data with specified attributes"
   ]
  },
  {
   "cell_type": "code",
   "execution_count": null,
   "metadata": {},
   "outputs": [],
   "source": [
    "display(cohort.profile_list_to_df(attribute_list=['demographic', 'vp']))"
   ]
  },
  {
   "cell_type": "markdown",
   "metadata": {},
   "source": [
    "## Display filtered data (one filter)"
   ]
  },
  {
   "cell_type": "markdown",
   "metadata": {},
   "source": [
    "### The whole profiles concerned"
   ]
  },
  {
   "cell_type": "code",
   "execution_count": null,
   "metadata": {},
   "outputs": [],
   "source": [
    "filter_dict = {'demographic': {'anchor_age': (20, 70)}}\n",
    "filtered_cohort = cohort.filter_med_profile_from_cohort(filter_dict, all_med_tab_necessary=False, filter_med_tab=False)\n",
    "display(filtered_cohort.profile_list_to_df())"
   ]
  },
  {
   "cell_type": "markdown",
   "metadata": {},
   "source": [
    "### Only the tabs concerned"
   ]
  },
  {
   "cell_type": "code",
   "execution_count": null,
   "metadata": {},
   "outputs": [],
   "source": [
    "filtered_cohort = cohort.filter_med_profile_from_cohort(filter_dict, all_med_tab_necessary=False)\n",
    "display(filtered_cohort.profile_list_to_df())"
   ]
  },
  {
   "cell_type": "markdown",
   "metadata": {},
   "source": [
    "## Display filtered data (more than one filter, only one filter by attribute)"
   ]
  },
  {
   "cell_type": "markdown",
   "metadata": {},
   "source": [
    "### The tabs matching at least one filter from the dict"
   ]
  },
  {
   "cell_type": "code",
   "execution_count": null,
   "metadata": {},
   "outputs": [],
   "source": [
    "filter_dict = {'demographic': {'anchor_age': (20, 70)}, 'vp':{'attr_0': (0, 2)}}\n",
    "filtered_cohort = cohort.filter_med_profile_from_cohort(filter_dict, all_necessary=False, all_med_tab_necessary=False)\n",
    "display(filtered_cohort.profile_list_to_df(['vp']))"
   ]
  },
  {
   "cell_type": "markdown",
   "metadata": {},
   "source": [
    "### Only the tabs matching all filters from the dict"
   ]
  },
  {
   "cell_type": "code",
   "execution_count": null,
   "metadata": {},
   "outputs": [],
   "source": [
    "filter_dict = {'demographic': {'anchor_age': (20, 70), 'ethnicity_int': 2.0}}\n",
    "filtered_cohort = cohort.filter_med_profile_from_cohort(filter_dict, all_med_tab_necessary=False)\n",
    "display(filtered_cohort.profile_list_to_df(['demographic']))"
   ]
  },
  {
   "cell_type": "markdown",
   "metadata": {},
   "source": [
    "## Display filtered data (more than one filter, one or more filter by attribute)"
   ]
  },
  {
   "cell_type": "markdown",
   "metadata": {},
   "source": [
    "### The tabs where at least one filter by attribute is true"
   ]
  },
  {
   "cell_type": "code",
   "execution_count": null,
   "metadata": {},
   "outputs": [],
   "source": [
    "filter_dict = {'vd': {'attr_0': (0, 1), 'attr_1': (0, 1)}, 'vp':{'attr_0': (0, 1)}}\n",
    "filtered_cohort = cohort.filter_med_profile_from_cohort(filter_dict, all_necessary_in_attribute=False, all_med_tab_necessary=False)\n",
    "display(filtered_cohort.profile_list_to_df(['vp']))"
   ]
  },
  {
   "cell_type": "markdown",
   "metadata": {},
   "source": [
    "### The tabs where all filters from all attributes are true"
   ]
  },
  {
   "cell_type": "code",
   "execution_count": null,
   "metadata": {},
   "outputs": [],
   "source": [
    "filter_dict = {'vd': {'attr_0': (0, 1), 'attr_1': (0, 1)}, 'vp':{'attr_0': (0, 1)}}\n",
    "filtered_cohort = cohort.filter_med_profile_from_cohort(filter_dict, all_med_tab_necessary=False)\n",
    "display(filtered_cohort.profile_list_to_df())"
   ]
  },
  {
   "cell_type": "markdown",
   "metadata": {},
   "source": [
    "## Display filtered data where all tabs from profile match filters"
   ]
  },
  {
   "cell_type": "code",
   "execution_count": null,
   "metadata": {
    "pycharm": {
     "name": "#%%\n"
    }
   },
   "outputs": [],
   "source": [
    "filter_dict = {'Date': (datetime.date(2145, 1, 1), datetime.date(2165, 1, 1))}\n",
    "filtered_cohort = cohort.filter_med_profile_from_cohort(filter_dict)\n",
    "display(filtered_cohort.profile_list_to_df())"
   ]
  }
 ],
 "metadata": {
  "kernelspec": {
   "display_name": "Python 3 (ipykernel)",
   "language": "python",
   "name": "python3"
  },
  "language_info": {
   "codemirror_mode": {
    "name": "ipython",
    "version": 3
   },
   "file_extension": ".py",
   "mimetype": "text/x-python",
   "name": "python",
   "nbconvert_exporter": "python",
   "pygments_lexer": "ipython3",
   "version": "3.8.10"
  }
 },
 "nbformat": 4,
 "nbformat_minor": 1
}
