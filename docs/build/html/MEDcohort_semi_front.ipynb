{
 "cells": [
  {
   "cell_type": "markdown",
   "metadata": {
    "collapsed": true
   },
   "source": [
    "# MEDCohort visualisation"
   ]
  },
  {
   "cell_type": "markdown",
   "metadata": {},
   "source": [
    "## Import modules and patient data"
   ]
  },
  {
   "cell_type": "code",
   "execution_count": null,
   "metadata": {
    "pycharm": {
     "is_executing": true
    }
   },
   "outputs": [],
   "source": [
    "import datetime\n",
    "import pickle\n",
    "\n",
    "from MEDclasses import *\n",
    "from src.semi_front.MEDcohort_utils import *\n",
    "from src.semi_front.MEDprofiles_utils import *\n",
    "import matplotlib as mpl\n",
    "import numpy as np\n",
    "\n",
    "%matplotlib qt"
   ]
  },
  {
   "cell_type": "code",
   "execution_count": null,
   "metadata": {
    "pycharm": {
     "is_executing": true
    }
   },
   "outputs": [],
   "source": [
    "# Get MEDProfiles\n",
    "data_file = open('../data/mimic/MEDprofileData', 'rb')\n",
    "# data_file = open('../data/meningioma/MEDprofileData', 'rb')\n",
    "MEDprofile_list = pickle.load(data_file)[:10]\n",
    "data_file.close()\n",
    "cohort = MEDcohort(list_MEDprofile=MEDprofile_list)\n",
    "df_cohort = cohort.profile_list_to_df()"
   ]
  },
  {
   "cell_type": "code",
   "execution_count": null,
   "metadata": {
    "pycharm": {
     "is_executing": true
    }
   },
   "outputs": [],
   "source": [
    "display(df_cohort)"
   ]
  },
  {
   "cell_type": "markdown",
   "metadata": {},
   "source": [
    "## Define plot functions"
   ]
  },
  {
   "cell_type": "code",
   "execution_count": null,
   "metadata": {
    "pycharm": {
     "is_executing": true
    }
   },
   "outputs": [],
   "source": [
    "# Define global attributes\n",
    "dict_selected_points = {}\n",
    "dict_selected_annotations = {}\n",
    "dict_points = {}\n",
    "dict_annotations = {}\n",
    "dict_class_time_points = {}\n",
    "dict_bin_points = {}\n",
    "dict_bin_annotations = {}\n",
    "dict_figure_profile = {}\n",
    "legend_points = []\n",
    "xaxis = [FIXED_COLUMNS[1]]"
   ]
  },
  {
   "cell_type": "code",
   "execution_count": null,
   "metadata": {
    "pycharm": {
     "is_executing": true
    }
   },
   "outputs": [],
   "source": [
    "def button_pressed(event):\n",
    "    \"\"\"\n",
    "    Called when a button pressed event occurs.\n",
    "    :param event:\n",
    "    :return:\n",
    "    \"\"\"\n",
    "    # If the button pressed is the left MouseButton we display the data of\n",
    "    # the nearest point in the axis\n",
    "    if event.button == mpl.backend_bases.MouseButton.LEFT:\n",
    "        display_attributes_values(event, df_cohort)\n",
    "\n",
    "    # If the button pressed is the right MouseButton we highlight the patient\n",
    "    # points in all the plot (for the nearest patient)\n",
    "    elif event.button == mpl.backend_bases.MouseButton.RIGHT:\n",
    "        display_patient_id_and_data(event, axes, df_cohort, classes_attributes_dict, dict_points, dict_annotations,\n",
    "                                    dict_selected_points, dict_selected_annotations, xaxis)\n",
    "    fig.canvas.draw()"
   ]
  },
  {
   "cell_type": "code",
   "execution_count": null,
   "metadata": {
    "pycharm": {
     "is_executing": true
    }
   },
   "outputs": [],
   "source": [
    "def button_pressed_in_simple_figure(event):\n",
    "    \"\"\"\n",
    "    Called when a button is pressed on figure where there is one annotation per point.\n",
    "    :param event:\n",
    "    :return:\n",
    "    \"\"\"\n",
    "    if event.button == mpl.backend_bases.MouseButton.LEFT or event.button == mpl.backend_bases.MouseButton.RIGHT:\n",
    "        display_annotations(event)\n",
    "        plt.gcf().canvas.draw_idle()"
   ]
  },
  {
   "cell_type": "code",
   "execution_count": null,
   "metadata": {
    "pycharm": {
     "is_executing": true,
     "name": "#%%\n"
    }
   },
   "outputs": [],
   "source": [
    "def key_pressed_in_profile(event):\n",
    "    \"\"\"\n",
    "    Called when a key is pressed on profile figure.\n",
    "    :param event:\n",
    "    :return:\n",
    "    \"\"\"\n",
    "    # Set relative time at the class matching the axis in which the event occurs\n",
    "    if event.key == 'r':\n",
    "        figure_dict = dict_figure_profile[plt.gcf().number][1]\n",
    "        r_pressed_in_profile(event, figure_dict['profile_axes'], figure_dict['profile_df'], classes_attributes_dict, figure_dict['profile_xaxis'], figure_dict['profile_points'], figure_dict['profile_annotations'])\n",
    "        center_data_in_profile_plot(figure_dict['profile_points'])\n",
    "        plt.gcf().canvas.draw_idle()"
   ]
  },
  {
   "cell_type": "code",
   "execution_count": null,
   "metadata": {
    "pycharm": {
     "is_executing": true,
     "name": "#%%\n"
    }
   },
   "outputs": [],
   "source": [
    "def on_close_figure(event):\n",
    "    \"\"\"\n",
    "    Remove profile data from figure profile dict.\n",
    "    :param event:\n",
    "    :return:\n",
    "    \"\"\"\n",
    "    dict_figure_profile.pop(plt.gcf().number, None)"
   ]
  },
  {
   "cell_type": "code",
   "execution_count": null,
   "metadata": {
    "pycharm": {
     "is_executing": true,
     "name": "#%%\n"
    }
   },
   "outputs": [],
   "source": [
    "def key_pressed(event):\n",
    "    \"\"\"\n",
    "    Called when a key pressed event occurs.\n",
    "    :param event:\n",
    "    :return:\n",
    "    \"\"\"\n",
    "    # Delete selected patients while delete key is pressed\n",
    "    if event.key == 'delete':\n",
    "        delete_pressed(dict_points, dict_selected_points, dict_selected_annotations, title)\n",
    "    # Set relative time at the class matching the axis in which the event occurs\n",
    "    elif event.key == 'r':\n",
    "        r_pressed(event, axes, df_cohort, classes_attributes_dict, dict_points, dict_annotations, dict_selected_points, dict_selected_annotations, xaxis)\n",
    "    # Set time points\n",
    "    #elif event.key == 't':\n",
    "        #t_pressed(event, axes, df_cohort, classes, all, dict_points, dict_annotations, dict_selected_points, dict_selected_annotations, xaxis, #dict_class_time_points, legend_points, fig)\n",
    "    # Open bin figure\n",
    "    elif event.key == 'y' or event.key == 'm':\n",
    "        if event.key == 'y':\n",
    "            frequency = 'year'\n",
    "        else:\n",
    "            frequency = 'month'\n",
    "        bin_pressed(df_cohort, classes_attributes_dict, frequency, subplot_height, plot_width, colors, dict_bin_points, dict_bin_annotations, button_pressed_in_simple_figure)\n",
    "    # Open selected profiles\n",
    "    elif event.key == 'p':\n",
    "        p_pressed(df_cohort, classes_attributes_dict, subplot_height, plot_width, xaxis, colors, dict_selected_points, dict_figure_profile, button_pressed_in_simple_figure, key_pressed_in_profile, on_close_figure)\n",
    "    fig.canvas.draw()"
   ]
  },
  {
   "cell_type": "code",
   "execution_count": null,
   "metadata": {
    "pycharm": {
     "is_executing": true,
     "name": "#%%\n"
    }
   },
   "outputs": [],
   "source": [
    "def on_close(event):\n",
    "    \"\"\"\n",
    "    Called when the figure is closed.\n",
    "    :param event:\n",
    "    :return:\n",
    "    \"\"\"\n",
    "    # Update the cohort dataframe according to the plot figure\n",
    "    update_cohort(df_cohort, dict_points, dict_selected_points)"
   ]
  },
  {
   "cell_type": "markdown",
   "metadata": {},
   "source": [
    "## Display Cohort"
   ]
  },
  {
   "cell_type": "code",
   "execution_count": null,
   "metadata": {
    "pycharm": {
     "is_executing": true
    }
   },
   "outputs": [],
   "source": [
    "# Define figure parameters\n",
    "subplot_height = 1\n",
    "plot_width = 10\n",
    "classes_attributes_dict = {'demographic': ([], 'compact'), 'labevent': (['sodium_max', 'sodium_min', 'sodium_trend'], 'complete'), 'nrad': (['attr_0', 'attr_1', 'attr_2'], 'compact'), 'vp': ([], 'compact')}\n",
    "# classes_attributes_dict = {'Demographic': ([], 'compact'), 'Therapy': ([], 'compact'), 'Pathology': ([], 'complete'), 'Event': ([], 'complete')}\n",
    "colors = mpl.colormaps['Blues'](np.linspace(0, 1, len(classes_attributes_dict.keys()) + 1))"
   ]
  },
  {
   "cell_type": "code",
   "execution_count": null,
   "metadata": {
    "pycharm": {
     "is_executing": true,
     "name": "#%%\n"
    }
   },
   "outputs": [],
   "source": [
    "# Create and display figure\n",
    "fig, axes = set_plot(subplot_height, plot_width, classes_attributes_dict, colors)\n",
    "fig.canvas.mpl_connect('button_press_event', button_pressed)\n",
    "fig.canvas.mpl_connect('key_press_event', key_pressed)\n",
    "fig.canvas.mpl_connect('close_event', on_close)\n",
    "plt.xlabel(\"Date\", fontsize=12)\n",
    "display_cohort(axes, df_cohort, classes_attributes_dict, dict_points, dict_annotations, xaxis)\n",
    "title = fig.suptitle(f'MEDcohort composed by {len(set(df_cohort.index))} patients', fontsize=16)"
   ]
  }
 ],
 "metadata": {
  "kernelspec": {
   "display_name": "Python 3 (ipykernel)",
   "language": "python",
   "name": "python3"
  },
  "language_info": {
   "codemirror_mode": {
    "name": "ipython",
    "version": 3
   },
   "file_extension": ".py",
   "mimetype": "text/x-python",
   "name": "python",
   "nbconvert_exporter": "python",
   "pygments_lexer": "ipython3",
   "version": "3.8.10"
  }
 },
 "nbformat": 4,
 "nbformat_minor": 1
}
